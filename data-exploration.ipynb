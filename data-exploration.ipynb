{
 "cells": [
  {
   "cell_type": "markdown",
   "metadata": {},
   "source": [
    "# EB5002 Text Processing\n",
    "\n",
    "# Data Exploration"
   ]
  },
  {
   "cell_type": "markdown",
   "metadata": {},
   "source": [
    "## Set the working directory"
   ]
  },
  {
   "cell_type": "code",
   "execution_count": 1,
   "metadata": {},
   "outputs": [
    {
     "data": {
      "text/plain": [
       "'/home/tkokkeng/Documents/EB5002-TextProcessing'"
      ]
     },
     "execution_count": 1,
     "metadata": {},
     "output_type": "execute_result"
    }
   ],
   "source": [
    "import os\n",
    "os.chdir(os.path.join(os.path.sep, 'home', 'tkokkeng', 'Documents', 'EB5002-TextProcessing'))\n",
    "os.getcwd()"
   ]
  },
  {
   "cell_type": "code",
   "execution_count": 2,
   "metadata": {},
   "outputs": [
    {
     "data": {
      "text/plain": [
       "['/home/tkokkeng/Documents/EB5002-TextProcessing',\n '/home/tkokkeng/Documents/EB5002-TextProcessing/source',\n '/home/tkokkeng/python/python367/ptvenv/lib/python36.zip',\n '/home/tkokkeng/python/python367/ptvenv/lib/python3.6',\n '/home/tkokkeng/python/python367/ptvenv/lib/python3.6/lib-dynload',\n '/usr/lib/python3.6',\n '',\n '/home/tkokkeng/python/python367/ptvenv/lib/python3.6/site-packages',\n '/home/tkokkeng/.local/lib/python3.6/site-packages',\n '/usr/local/lib/python3.6/dist-packages',\n '/usr/lib/python3/dist-packages',\n '/home/tkokkeng/.local/lib/python3.6/site-packages/IPython/extensions',\n '/home/tkokkeng/.ipython']"
      ]
     },
     "execution_count": 2,
     "metadata": {},
     "output_type": "execute_result"
    }
   ],
   "source": [
    "import sys\n",
    "if os.path.join(os.getcwd(), 'source') not in sys.path:\n",
    "    sys.path.append(os.path.join(os.getcwd(), 'source'))\n",
    "sys.path"
   ]
  },
  {
   "cell_type": "markdown",
   "metadata": {},
   "source": [
    "## Import libraries"
   ]
  },
  {
   "cell_type": "code",
   "execution_count": 43,
   "metadata": {
    "collapsed": true
   },
   "outputs": [],
   "source": [
    "import pandas as pd\n",
    "import re\n",
    "import io\n",
    "import json"
   ]
  },
  {
   "cell_type": "markdown",
   "metadata": {},
   "source": [
    "## Load data"
   ]
  },
  {
   "cell_type": "code",
   "execution_count": 4,
   "metadata": {},
   "outputs": [
    {
     "name": "stdout",
     "output_type": "stream",
     "text": [
      "<class 'pandas.core.frame.DataFrame'>\nRangeIndex: 6444 entries, 0 to 6443\nData columns (total 28 columns):\nid                         6444 non-null int64\nhandle                     6444 non-null object\ntext                       6444 non-null object\nis_retweet                 6444 non-null bool\noriginal_author            722 non-null object\ntime                       6444 non-null object\nin_reply_to_screen_name    208 non-null object\nin_reply_to_status_id      202 non-null float64\nin_reply_to_user_id        208 non-null float64\nis_quote_status            6444 non-null bool\nlang                       6444 non-null object\nretweet_count              6444 non-null int64\nfavorite_count             6444 non-null int64\nlongitude                  12 non-null float64\nlatitude                   12 non-null float64\nplace_id                   204 non-null object\nplace_full_name            204 non-null object\nplace_name                 204 non-null object\nplace_type                 204 non-null object\nplace_country_code         204 non-null object\nplace_country              204 non-null object\nplace_contained_within     204 non-null object\nplace_attributes           204 non-null object\nplace_bounding_box         204 non-null object\nsource_url                 6444 non-null object\ntruncated                  6444 non-null bool\nentities                   6444 non-null object\nextended_entities          1348 non-null object\ndtypes: bool(3), float64(4), int64(3), object(18)\nmemory usage: 1.2+ MB\n"
     ]
    }
   ],
   "source": [
    "if os.path.isfile(os.path.join('data', 'tweets.csv')):\n",
    "    tweets_df = pd.read_csv(os.path.join('data', 'tweets.csv'), encoding='utf-8')\n",
    "tweets_df.info()"
   ]
  },
  {
   "cell_type": "code",
   "execution_count": 5,
   "metadata": {},
   "outputs": [
    {
     "data": {
      "text/plain": [
       "148"
      ]
     },
     "execution_count": 5,
     "metadata": {},
     "output_type": "execute_result"
    }
   ],
   "source": [
    "max(map(len, tweets_df['text']))"
   ]
  },
  {
   "cell_type": "code",
   "execution_count": 6,
   "metadata": {},
   "outputs": [],
   "source": [
    "pd.set_option('max_colwidth', 200)"
   ]
  },
  {
   "cell_type": "code",
   "execution_count": 7,
   "metadata": {},
   "outputs": [
    {
     "data": {
      "text/plain": [
       "0                        The question in this election: Who can put the plans into action that will make your life better? https://t.co/XreEY9OicG\n1                        Last night, Donald Trump said not paying taxes was \"smart.\" You know what I call it? Unpatriotic. https://t.co/t0xmBfj7zF\n2      Couldn't be more proud of @HillaryClinton. Her vision and command during last night's debate showed that she's ready to be our next @POTUS.\n3           If we stand together, there's nothing we can't do. \\n\\nMake sure you're ready to vote: https://t.co/tTgeqxNqYm https://t.co/Q3Ymbb7UNy\n4                       Both candidates were asked about how they'd confront racial injustice. Only one had a real answer. https://t.co/sjnEokckis\n5                          Join me for a 3pm rally - tomorrow at the Mid-America Center in Council Bluffs, Iowa! Tickets:… https://t.co/dfzsbICiXc\n6       This election is too important to sit out. Go to https://t.co/tTgeqxNqYm and make sure you're registered. #NationalVoterRegistrationDay -H\n7                                                   When Donald Trump goes low...register to vote: https://t.co/tTgeqxNqYm https://t.co/DXz9dEwsZS\n8        Once again, we will have a government of, by and for the people. Join the MOVEMENT today! https://t.co/lWjYDbPHav https://t.co/uYwJrtZkAe\n9                3) Has Trump offered a single proposal to reduce the friction of starting a business. @HillaryClinton has https://t.co/OhFAFEFsUq\n10    The election is just weeks away. Check if you're registered to vote at https://t.co/HcMAh8ljR0, only takes a few cl… https://t.co/H1H7hAA4XM\n11                On National #VoterRegistrationDay, make sure you're registered to vote so we can #MakeAmericaGreatAgain… https://t.co/0wib6UEZON\n12                                Hillary Clinton's Campaign Continues To Make False Claims About Foundation Disclosure: \\nhttps://t.co/zhkEfUouHH\n13            'CNBC, Time magazine online polls say Donald Trump won the first presidential debate' via @WashTimes. #MAGA\\nhttps://t.co/PGimqYKPoJ\n14          Donald Trump lied to the American people at least 58 times during the first presidential debate. (We counted.) https://t.co/h43O6Rws4S\nName: text, dtype: object"
      ]
     },
     "execution_count": 7,
     "metadata": {},
     "output_type": "execute_result"
    }
   ],
   "source": [
    "tweets_df['text'][:15]"
   ]
  },
  {
   "cell_type": "markdown",
   "metadata": {},
   "source": [
    "## Tokenise the tweets"
   ]
  },
  {
   "cell_type": "code",
   "execution_count": 8,
   "metadata": {},
   "outputs": [],
   "source": [
    "try: # Use the default NLTK tokenizer.\n",
    "    from nltk import word_tokenize, sent_tokenize \n",
    "    # Testing whether it works. \n",
    "    # Sometimes it doesn't work on some machines because of setup issues.\n",
    "    word_tokenize(sent_tokenize(\"This is a foobar sentence. Yes it is.\")[0])\n",
    "except: # Use a naive sentence tokenizer and toktok.\n",
    "    import re\n",
    "    from nltk.tokenize import ToktokTokenizer\n",
    "    # See https://stackoverflow.com/a/25736515/610569\n",
    "    sent_tokenize = lambda x: re.split(r'(?<=[^A-Z].[.?]) +(?=[A-Z])', x)\n",
    "    # Use the toktok tokenizer that requires no dependencies.\n",
    "    toktok = ToktokTokenizer()\n",
    "    word_tokenize = toktok.tokenize"
   ]
  },
  {
   "cell_type": "code",
   "execution_count": 30,
   "metadata": {},
   "outputs": [],
   "source": [
    "tokenised_tweets = tweets_df['text'].map(lambda x: [ list(map(str.lower, word_tokenize(sent))) for sent in sent_tokenize(x) ])"
   ]
  },
  {
   "cell_type": "code",
   "execution_count": 31,
   "metadata": {},
   "outputs": [
    {
     "data": {
      "text/plain": [
       "0                                         [[the, question, in, this, election, :, who, can, put, the, plans, into, action, that, will, make, your, life, better, ?, https://t.co/xreey9oicg]]\n1                                    [[last, night, ,, donald, trump, said, not, paying, taxes, was, \", smart., \", you, know, what, i, call, it, ?], [unpatriotic., https://t.co/t0xmbfj7zf]]\n2     [[couldn, ', t, be, more, proud, of, @hillaryclinton, .], [her, vision, and, command, during, last, night, ', s, debate, showed, that, she, ', s, ready, to, be, our, next, @potus, .]]\n3                      [[if, we, stand, together, ,, there, ', s, nothing, we, can, ', t, do., make, sure, you, ', re, ready, to, vote, :, https://t.co/ttgeqxnqym, https://t.co/q3ymbb7uny]]\n4                                      [[both, candidates, were, asked, about, how, they, ', d, confront, racial, injustice, .], [only, one, had, a, real, answer., https://t.co/sjneokckis]]\n5                                        [[join, me, for, a, 3pm, rally, -, tomorrow, at, the, mid-america, center, in, council, bluffs, ,, iowa, !, tickets, :, …, https://t.co/dfzsbicixc]]\n6                     [[this, election, is, too, important, to, sit, out, .], [go, to, https://t.co/ttgeqxnqym, and, make, sure, you, ', re, registered., #nationalvoterregistrationday, -h]]\n7                                                                            [[when, donald, trump, goes, low, ..., register, to, vote, :, https://t.co/ttgeqxnqym, https://t.co/dxz9dewszs]]\n8                   [[once, again, ,, we, will, have, a, government, of, ,, by, and, for, the, people, .], [join, the, movement, today, !, https://t.co/lwjydbphav, https://t.co/uywjrtzkae]]\n9                                    [[3, ), has, trump, offered, a, single, proposal, to, reduce, the, friction, of, starting, a, business., @hillaryclinton, has, https://t.co/ohfafefsuq]]\n10            [[the, election, is, just, weeks, away, .], [check, if, you, ', re, registered, to, vote, at, https://t.co/hcmah8ljr0, ,, only, takes, a, few, cl, …, https://t.co/h1h7haa4xm]]\n11                                  [[on, national, #voterregistrationday, ,, make, sure, you, ', re, registered, to, vote, so, we, can, #makeamericagreatagain, …, https://t.co/0wib6uezon]]\n12                                                        [[hillary, clinton, ', s, campaign, continues, to, make, false, claims, about, foundation, disclosure, :, https://t.co/zhkefuouhh]]\n13                              [[', cnbc, ,, time, magazine, online, polls, say, donald, trump, won, the, first, presidential, debate, ', via, @washtimes., #maga, https://t.co/pgimqykpoj]]\n14                           [[donald, trump, lied, to, the, american, people, at, least, 58, times, during, the, first, presidential, debate., (, we, counted., ), https://t.co/h43o6rws4s]]\nName: text, dtype: object"
      ]
     },
     "execution_count": 31,
     "metadata": {},
     "output_type": "execute_result"
    }
   ],
   "source": [
    "tokenised_tweets[:15]"
   ]
  },
  {
   "cell_type": "code",
   "execution_count": 32,
   "metadata": {},
   "outputs": [],
   "source": [
    "tokenised_tweets = tokenised_tweets.sum()"
   ]
  },
  {
   "cell_type": "code",
   "execution_count": 33,
   "metadata": {},
   "outputs": [
    {
     "data": {
      "text/plain": [
       "9236"
      ]
     },
     "execution_count": 33,
     "metadata": {},
     "output_type": "execute_result"
    }
   ],
   "source": [
    "len(tokenised_tweets)"
   ]
  },
  {
   "cell_type": "code",
   "execution_count": 34,
   "metadata": {},
   "outputs": [
    {
     "data": {
      "text/plain": [
       "[['the',\n  'question',\n  'in',\n  'this',\n  'election',\n  ':',\n  'who',\n  'can',\n  'put',\n  'the',\n  'plans',\n  'into',\n  'action',\n  'that',\n  'will',\n  'make',\n  'your',\n  'life',\n  'better',\n  '?',\n  'https://t.co/xreey9oicg'],\n ['last',\n  'night',\n  ',',\n  'donald',\n  'trump',\n  'said',\n  'not',\n  'paying',\n  'taxes',\n  'was',\n  '\"',\n  'smart.',\n  '\"',\n  'you',\n  'know',\n  'what',\n  'i',\n  'call',\n  'it',\n  '?'],\n ['unpatriotic.', 'https://t.co/t0xmbfj7zf'],\n ['couldn', \"'\", 't', 'be', 'more', 'proud', 'of', '@hillaryclinton', '.'],\n ['her',\n  'vision',\n  'and',\n  'command',\n  'during',\n  'last',\n  'night',\n  \"'\",\n  's',\n  'debate',\n  'showed',\n  'that',\n  'she',\n  \"'\",\n  's',\n  'ready',\n  'to',\n  'be',\n  'our',\n  'next',\n  '@potus',\n  '.']]"
      ]
     },
     "execution_count": 34,
     "metadata": {},
     "output_type": "execute_result"
    }
   ],
   "source": [
    "tokenised_tweets[:5]"
   ]
  },
  {
   "cell_type": "markdown",
   "metadata": {},
   "source": [
    "## Remove all urls from the tweets"
   ]
  },
  {
   "cell_type": "code",
   "execution_count": 35,
   "metadata": {},
   "outputs": [],
   "source": [
    "tokenised_tweets = [ list(filter(lambda x: not re.match('https://', x), sent)) for sent in tokenised_tweets ]"
   ]
  },
  {
   "cell_type": "code",
   "execution_count": 36,
   "metadata": {},
   "outputs": [
    {
     "data": {
      "text/plain": [
       "[['the',\n  'question',\n  'in',\n  'this',\n  'election',\n  ':',\n  'who',\n  'can',\n  'put',\n  'the',\n  'plans',\n  'into',\n  'action',\n  'that',\n  'will',\n  'make',\n  'your',\n  'life',\n  'better',\n  '?'],\n ['last',\n  'night',\n  ',',\n  'donald',\n  'trump',\n  'said',\n  'not',\n  'paying',\n  'taxes',\n  'was',\n  '\"',\n  'smart.',\n  '\"',\n  'you',\n  'know',\n  'what',\n  'i',\n  'call',\n  'it',\n  '?'],\n ['unpatriotic.'],\n ['couldn', \"'\", 't', 'be', 'more', 'proud', 'of', '@hillaryclinton', '.'],\n ['her',\n  'vision',\n  'and',\n  'command',\n  'during',\n  'last',\n  'night',\n  \"'\",\n  's',\n  'debate',\n  'showed',\n  'that',\n  'she',\n  \"'\",\n  's',\n  'ready',\n  'to',\n  'be',\n  'our',\n  'next',\n  '@potus',\n  '.']]"
      ]
     },
     "execution_count": 36,
     "metadata": {},
     "output_type": "execute_result"
    }
   ],
   "source": [
    "tokenised_tweets[:5]"
   ]
  },
  {
   "cell_type": "markdown",
   "metadata": {},
   "source": [
    "## Save the tokenised tweets"
   ]
  },
  {
   "cell_type": "code",
   "execution_count": 44,
   "metadata": {},
   "outputs": [],
   "source": [
    "with io.open(os.path.join('data', 'tokenised-tweets.txt'), 'w', encoding='utf8') as outfile:\n",
    "    json.dump(tokenised_tweets, outfile, ensure_ascii=False)"
   ]
  },
  {
   "cell_type": "code",
   "execution_count": null,
   "metadata": {},
   "outputs": [],
   "source": []
  }
 ],
 "metadata": {
  "kernelspec": {
   "display_name": "Python 2",
   "language": "python",
   "name": "python2"
  },
  "language_info": {
   "codemirror_mode": {
    "name": "ipython",
    "version": 2
   },
   "file_extension": ".py",
   "mimetype": "text/x-python",
   "name": "python",
   "nbconvert_exporter": "python",
   "pygments_lexer": "ipython2",
   "version": "2.7.6"
  }
 },
 "nbformat": 4,
 "nbformat_minor": 0
}
