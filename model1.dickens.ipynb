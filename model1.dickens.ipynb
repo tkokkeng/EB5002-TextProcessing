{
 "cells": [
  {
   "cell_type": "markdown",
   "metadata": {},
   "source": [
    "# EB5002 Text Processing\n",
    "\n",
    "# Base Models\n",
    "\n",
    "Code adapted from <https://www.kaggle.com/alvations/gru-language-model>"
   ]
  },
  {
   "cell_type": "markdown",
   "metadata": {},
   "source": [
    "## Set the working directory"
   ]
  },
  {
   "cell_type": "code",
   "execution_count": 1,
   "metadata": {},
   "outputs": [
    {
     "data": {
      "text/plain": [
       "'/home/tkokkeng/Documents/EB5002-TextProcessing'"
      ]
     },
     "execution_count": 1,
     "metadata": {},
     "output_type": "execute_result"
    }
   ],
   "source": [
    "import os\n",
    "os.chdir(os.path.join(os.path.sep, 'home', 'tkokkeng', 'Documents', 'EB5002-TextProcessing'))\n",
    "os.getcwd()"
   ]
  },
  {
   "cell_type": "code",
   "execution_count": 2,
   "metadata": {},
   "outputs": [
    {
     "data": {
      "text/plain": [
       "['/home/tkokkeng/python/python367/ptvenv/lib/python36.zip',\n",
       " '/home/tkokkeng/python/python367/ptvenv/lib/python3.6',\n",
       " '/home/tkokkeng/python/python367/ptvenv/lib/python3.6/lib-dynload',\n",
       " '/usr/lib/python3.6',\n",
       " '',\n",
       " '/home/tkokkeng/python/python367/ptvenv/lib/python3.6/site-packages',\n",
       " '/home/tkokkeng/.local/lib/python3.6/site-packages',\n",
       " '/usr/local/lib/python3.6/dist-packages',\n",
       " '/usr/lib/python3/dist-packages',\n",
       " '/home/tkokkeng/.local/lib/python3.6/site-packages/IPython/extensions',\n",
       " '/home/tkokkeng/.ipython',\n",
       " '/home/tkokkeng/Documents/EB5002-TextProcessing/source']"
      ]
     },
     "execution_count": 2,
     "metadata": {},
     "output_type": "execute_result"
    }
   ],
   "source": [
    "import sys\n",
    "if os.path.join(os.getcwd(), 'source') not in sys.path:\n",
    "    sys.path.append(os.path.join(os.getcwd(), 'source'))\n",
    "sys.path"
   ]
  },
  {
   "cell_type": "code",
   "execution_count": 3,
   "metadata": {
    "_cell_guid": "b1076dfc-b9ad-4769-8c92-a6c4dae69d19",
    "_uuid": "8f2839f25d086af736a60e9eeb907d3b93b6e0e5"
   },
   "outputs": [],
   "source": [
    "# IPython candies...\n",
    "from IPython.display import Image\n",
    "from IPython.core.display import HTML\n",
    "from IPython.display import clear_output"
   ]
  },
  {
   "cell_type": "code",
   "execution_count": 4,
   "metadata": {
    "_cell_guid": "79c7e3d0-c299-4dcb-8224-4455121ee9b0",
    "_uuid": "d629ff2d2480ee46fbb7e2d37f6b5fab8052498a"
   },
   "outputs": [],
   "source": [
    "from collections import namedtuple\n",
    "import numpy as np\n",
    "from tqdm import tqdm\n",
    "import json\n",
    "import io\n",
    "import math\n",
    "import pickle\n",
    "import shutil\n",
    "import datetime\n",
    "\n",
    "from gensim.corpora import Dictionary\n",
    "\n",
    "import torch\n",
    "from torch import nn, optim, tensor, autograd\n",
    "from torch.nn import functional as F\n",
    "from torch.utils.data import Dataset, DataLoader\n",
    "from torch.nn.utils.rnn import pack_padded_sequence, pad_packed_sequence\n",
    "\n",
    "device = 'cuda' if torch.cuda.is_available() else 'cpu'"
   ]
  },
  {
   "cell_type": "code",
   "execution_count": 5,
   "metadata": {
    "_uuid": "feb13fc88688cd77d0f4266f0d95f6b5e341bfa4"
   },
   "outputs": [
    {
     "data": {
      "text/plain": [
       "<torch._C.Generator at 0x7f150d040c70>"
      ]
     },
     "execution_count": 5,
     "metadata": {},
     "output_type": "execute_result"
    }
   ],
   "source": [
    "import matplotlib.pyplot as plt\n",
    "import seaborn as sns\n",
    "sns.set_style(\"darkgrid\")\n",
    "sns.set(rc={'figure.figsize':(12, 8)})\n",
    "\n",
    "torch.manual_seed(42)"
   ]
  },
  {
   "cell_type": "markdown",
   "metadata": {},
   "source": [
    "## Load data"
   ]
  },
  {
   "cell_type": "code",
   "execution_count": 6,
   "metadata": {
    "_uuid": "10e3d0a9d7d39774d41e60326ecf82f939dedcf6"
   },
   "outputs": [],
   "source": [
    "# Tokenize the text.\n",
    "# tokenized_text = [list(map(str.lower, word_tokenize(sent))) \n",
    "#                   for sent in sent_tokenize(text)]\n",
    "\n",
    "with io.open(os.path.join('data', 'final', 'all_books_8975.txt'), encoding='utf8') as infile:\n",
    "    tokenized_text = json.load(infile)"
   ]
  },
  {
   "cell_type": "code",
   "execution_count": 7,
   "metadata": {},
   "outputs": [
    {
     "data": {
      "text/plain": [
       "8975"
      ]
     },
     "execution_count": 7,
     "metadata": {},
     "output_type": "execute_result"
    }
   ],
   "source": [
    "len(tokenized_text)"
   ]
  },
  {
   "cell_type": "code",
   "execution_count": 8,
   "metadata": {},
   "outputs": [
    {
     "data": {
      "text/plain": [
       "['under',\n",
       " 'none',\n",
       " 'of',\n",
       " 'the',\n",
       " 'accredited',\n",
       " 'ghostly',\n",
       " 'circumstances',\n",
       " ',',\n",
       " 'and',\n",
       " 'environed',\n",
       " 'by',\n",
       " 'none',\n",
       " 'of',\n",
       " 'the',\n",
       " 'conventional',\n",
       " 'ghostly',\n",
       " 'surroundings',\n",
       " ',',\n",
       " 'did',\n",
       " 'i',\n",
       " 'first',\n",
       " 'make',\n",
       " 'acquaintance',\n",
       " 'with',\n",
       " 'the',\n",
       " 'house',\n",
       " 'which',\n",
       " 'is',\n",
       " 'the',\n",
       " 'subject',\n",
       " 'of',\n",
       " 'this',\n",
       " 'christmas',\n",
       " 'piece',\n",
       " '.']"
      ]
     },
     "execution_count": 8,
     "metadata": {},
     "output_type": "execute_result"
    }
   ],
   "source": [
    "tokenized_text[0]"
   ]
  },
  {
   "cell_type": "code",
   "execution_count": 9,
   "metadata": {},
   "outputs": [
    {
     "data": {
      "text/plain": [
       "407"
      ]
     },
     "execution_count": 9,
     "metadata": {},
     "output_type": "execute_result"
    }
   ],
   "source": [
    "max([ len(i) for i in tokenized_text ])"
   ]
  },
  {
   "cell_type": "code",
   "execution_count": 10,
   "metadata": {},
   "outputs": [
    {
     "data": {
      "text/plain": [
       "Text(0, 0.5, 'Frequency')"
      ]
     },
     "execution_count": 10,
     "metadata": {},
     "output_type": "execute_result"
    },
    {
     "data": {
      "image/png": "[encoded data removed]",
      "text/plain": [
       "<Figure size 432x288 with 1 Axes>"
      ]
     },
     "metadata": {
      "needs_background": "light"
     },
     "output_type": "display_data"
    }
   ],
   "source": [
    "plt.hist([ len(i) for i in tokenized_text ], bins=20)\n",
    "plt.title('Distribution of Sentence lengths')\n",
    "plt.xlabel('Sentence Length')\n",
    "plt.ylabel('Frequency')"
   ]
  },
  {
   "cell_type": "code",
   "execution_count": 11,
   "metadata": {},
   "outputs": [
    {
     "data": {
      "text/plain": [
       "962"
      ]
     },
     "execution_count": 11,
     "metadata": {},
     "output_type": "execute_result"
    }
   ],
   "source": [
    "sum(j > 100 for j in [ len(i) for i in tokenized_text ])"
   ]
  },
  {
   "cell_type": "code",
   "execution_count": 12,
   "metadata": {},
   "outputs": [
    {
     "data": {
      "text/plain": [
       "100"
      ]
     },
     "execution_count": 12,
     "metadata": {},
     "output_type": "execute_result"
    }
   ],
   "source": [
    "tokenized_text = list(map(lambda x: x[:100], tokenized_text))\n",
    "max([ len(i) for i in tokenized_text ])"
   ]
  },
  {
   "cell_type": "code",
   "execution_count": 13,
   "metadata": {},
   "outputs": [
    {
     "data": {
      "text/plain": [
       "6"
      ]
     },
     "execution_count": 13,
     "metadata": {},
     "output_type": "execute_result"
    }
   ],
   "source": [
    "[ tokenized_text.index(i) for i in tokenized_text if len(i) == 100 ][0]"
   ]
  },
  {
   "cell_type": "code",
   "execution_count": 14,
   "metadata": {},
   "outputs": [
    {
     "data": {
      "text/plain": [
       "['i',\n",
       " 'had',\n",
       " 'got',\n",
       " 'into',\n",
       " 'the',\n",
       " 'train',\n",
       " 'at',\n",
       " 'midnight',\n",
       " ',',\n",
       " 'and',\n",
       " 'had',\n",
       " 'fallen',\n",
       " 'asleep',\n",
       " ',',\n",
       " 'and',\n",
       " 'had',\n",
       " 'woke',\n",
       " 'up',\n",
       " 'and',\n",
       " 'had',\n",
       " 'sat',\n",
       " 'looking',\n",
       " 'out',\n",
       " 'of',\n",
       " 'window',\n",
       " 'at',\n",
       " 'the',\n",
       " 'brilliant',\n",
       " 'northern',\n",
       " 'lights',\n",
       " 'in',\n",
       " 'the',\n",
       " 'sky',\n",
       " ',',\n",
       " 'and',\n",
       " 'had',\n",
       " 'fallen',\n",
       " 'asleep',\n",
       " 'again',\n",
       " ',',\n",
       " 'and',\n",
       " 'had',\n",
       " 'woke',\n",
       " 'up',\n",
       " 'again',\n",
       " 'to',\n",
       " 'find',\n",
       " 'the',\n",
       " 'night',\n",
       " 'gone',\n",
       " ',',\n",
       " 'with',\n",
       " 'the',\n",
       " 'usual',\n",
       " 'discontented',\n",
       " 'conviction',\n",
       " 'on',\n",
       " 'me',\n",
       " 'that',\n",
       " 'i',\n",
       " 'hadn',\n",
       " '’',\n",
       " 't',\n",
       " 'been',\n",
       " 'to',\n",
       " 'sleep',\n",
       " 'at',\n",
       " 'all',\n",
       " ';',\n",
       " '—',\n",
       " 'upon',\n",
       " 'which',\n",
       " 'question',\n",
       " ',',\n",
       " 'in',\n",
       " 'the',\n",
       " 'first',\n",
       " 'imbecility',\n",
       " 'of',\n",
       " 'that',\n",
       " 'condition',\n",
       " ',',\n",
       " 'i',\n",
       " 'am',\n",
       " 'ashamed',\n",
       " 'to',\n",
       " 'believe',\n",
       " 'that',\n",
       " 'i',\n",
       " 'would',\n",
       " 'have',\n",
       " 'done',\n",
       " 'wager',\n",
       " 'by',\n",
       " 'battle',\n",
       " 'with',\n",
       " 'the',\n",
       " 'man',\n",
       " 'who',\n",
       " 'sat']"
      ]
     },
     "execution_count": 14,
     "metadata": {},
     "output_type": "execute_result"
    }
   ],
   "source": [
    "tokenized_text[6]"
   ]
  },
  {
   "cell_type": "markdown",
   "metadata": {},
   "source": [
    "## Divide data into train and validation splits"
   ]
  },
  {
   "cell_type": "code",
   "execution_count": 15,
   "metadata": {},
   "outputs": [
    {
     "data": {
      "text/plain": [
       "array([6796, 4139, 4946, ..., 8476, 2139,  585])"
      ]
     },
     "execution_count": 15,
     "metadata": {},
     "output_type": "execute_result"
    }
   ],
   "source": [
    "train_idx = np.random.choice(range(len(tokenized_text)), size=6000, replace=False)\n",
    "train_idx"
   ]
  },
  {
   "cell_type": "code",
   "execution_count": 16,
   "metadata": {},
   "outputs": [],
   "source": [
    "tokenized_text_train = [ tokenized_text[i] for i in train_idx ]"
   ]
  },
  {
   "cell_type": "code",
   "execution_count": 17,
   "metadata": {},
   "outputs": [],
   "source": [
    "with io.open(os.path.join('tokenized_train.json'), 'w', encoding='utf8') as outfile:\n",
    "    json.dump(tokenized_text_train, outfile, ensure_ascii=False)"
   ]
  },
  {
   "cell_type": "code",
   "execution_count": 18,
   "metadata": {},
   "outputs": [],
   "source": [
    "val_idx = list(set(range(len(tokenized_text))) - set(train_idx))\n",
    "tokenized_text_val = [ tokenized_text[i] for i in val_idx ]\n",
    "with io.open(os.path.join('tokenized_val.json'), 'w', encoding='utf8') as outfile:\n",
    "    json.dump(tokenized_text_val, outfile, ensure_ascii=False)"
   ]
  },
  {
   "cell_type": "markdown",
   "metadata": {},
   "source": [
    "## Reload saved train and validation splits"
   ]
  },
  {
   "cell_type": "code",
   "execution_count": 19,
   "metadata": {},
   "outputs": [],
   "source": [
    "with io.open(os.path.join('data', 'splits', 'tokenized_train_100.json'), encoding='utf8') as infile:\n",
    "    tokenized_text_train = json.load(infile)\n",
    "with io.open(os.path.join('data', 'splits', 'tokenized_val_100.json'), encoding='utf8') as infile:\n",
    "    tokenized_text_val = json.load(infile)"
   ]
  },
  {
   "cell_type": "code",
   "execution_count": 20,
   "metadata": {},
   "outputs": [
    {
     "name": "stdout",
     "output_type": "stream",
     "text": [
      "6000 2975\n"
     ]
    }
   ],
   "source": [
    "print(len(tokenized_text_train), len(tokenized_text_val))"
   ]
  },
  {
   "cell_type": "code",
   "execution_count": 21,
   "metadata": {},
   "outputs": [
    {
     "data": {
      "text/plain": [
       "['there',\n",
       " 'i',\n",
       " 'stood',\n",
       " ',',\n",
       " 'for',\n",
       " 'minutes',\n",
       " ',',\n",
       " 'looking',\n",
       " 'at',\n",
       " 'joe',\n",
       " ',',\n",
       " 'already',\n",
       " 'at',\n",
       " 'work',\n",
       " 'with',\n",
       " 'a',\n",
       " 'glow',\n",
       " 'of',\n",
       " 'health',\n",
       " 'and',\n",
       " 'strength',\n",
       " 'upon',\n",
       " 'his',\n",
       " 'face',\n",
       " 'that',\n",
       " 'made',\n",
       " 'it',\n",
       " 'show',\n",
       " 'as',\n",
       " 'if',\n",
       " 'the',\n",
       " 'bright',\n",
       " 'sun',\n",
       " 'of',\n",
       " 'the',\n",
       " 'life',\n",
       " 'in',\n",
       " 'store',\n",
       " 'for',\n",
       " 'him',\n",
       " 'were',\n",
       " 'shining',\n",
       " 'on',\n",
       " 'it.',\n",
       " '“good-bye',\n",
       " ',',\n",
       " 'dear',\n",
       " 'joe',\n",
       " '!',\n",
       " '--',\n",
       " 'no',\n",
       " ',',\n",
       " 'don',\n",
       " '’',\n",
       " 't',\n",
       " 'wipe',\n",
       " 'it',\n",
       " 'off',\n",
       " '--',\n",
       " 'for',\n",
       " 'god',\n",
       " '’',\n",
       " 's',\n",
       " 'sake',\n",
       " ',',\n",
       " 'give',\n",
       " 'me',\n",
       " 'your',\n",
       " 'blackened',\n",
       " 'hand',\n",
       " '!',\n",
       " '--',\n",
       " 'i',\n",
       " 'shall',\n",
       " 'be',\n",
       " 'down',\n",
       " 'soon',\n",
       " 'and',\n",
       " 'often.',\n",
       " '”',\n",
       " '“never',\n",
       " 'too',\n",
       " 'soon',\n",
       " ',',\n",
       " 'sir',\n",
       " ',',\n",
       " '”',\n",
       " 'said',\n",
       " 'joe',\n",
       " ',',\n",
       " '“and',\n",
       " 'never',\n",
       " 'too',\n",
       " 'often',\n",
       " ',',\n",
       " 'pip',\n",
       " '!',\n",
       " '”',\n",
       " 'biddy',\n",
       " 'was']"
      ]
     },
     "execution_count": 21,
     "metadata": {},
     "output_type": "execute_result"
    }
   ],
   "source": [
    "tokenized_text_train[0]"
   ]
  },
  {
   "cell_type": "code",
   "execution_count": 22,
   "metadata": {
    "_uuid": "d971921fc3975505d0db84eca326744fb98c1ced"
   },
   "outputs": [],
   "source": [
    "class BooksDataset(Dataset):\n",
    "    def __init__(self, texts, vocab=None):\n",
    "        self.texts = texts\n",
    "        \n",
    "        # Initialize the vocab \n",
    "        special_tokens = {'<pad>': 0, '<unk>':1, '<s>':2, '</s>':3}\n",
    "        if vocab:\n",
    "            self.vocab=vocab\n",
    "        else:\n",
    "            self.vocab = Dictionary(texts)\n",
    "        self.vocab.patch_with_special_tokens(special_tokens)\n",
    "        \n",
    "        # Keep track of the vocab size.\n",
    "        self.vocab_size = len(self.vocab)\n",
    "        \n",
    "        # Keep track of how many data points.\n",
    "        self._len = len(texts)\n",
    "        \n",
    "        # Find the longest text in the data.\n",
    "        self.max_len = max(len(txt) for txt in texts) \n",
    "        \n",
    "    def __getitem__(self, index):\n",
    "        vectorized_sent = self.vectorize(self.texts[index])\n",
    "        x_len = len(vectorized_sent)\n",
    "        # To pad the sentence:\n",
    "        # Pad left = 0; Pad right = max_len - len of sent.\n",
    "        pad_dim = (0, self.max_len - len(vectorized_sent))\n",
    "        vectorized_sent = F.pad(vectorized_sent, pad_dim, 'constant')\n",
    "        return {'x':vectorized_sent[:-1], \n",
    "                'y':vectorized_sent[1:], \n",
    "                'x_len':x_len}\n",
    "    \n",
    "    def __len__(self):\n",
    "        return self._len\n",
    "    \n",
    "    def vectorize(self, tokens, start_idx=2, end_idx=3):\n",
    "        \"\"\"\n",
    "        :param tokens: Tokens that should be vectorized. \n",
    "        :type tokens: list(str)\n",
    "        \"\"\"\n",
    "        # See https://radimrehurek.com/gensim/corpora/dictionary.html#gensim.corpora.dictionary.Dictionary.doc2idx \n",
    "        # Lets just cast list of indices into torch tensors directly =)\n",
    "        \n",
    "        vectorized_sent = [start_idx] + self.vocab.doc2idx(tokens, 1) + [end_idx]\n",
    "        return torch.tensor(vectorized_sent)\n",
    "    \n",
    "    def unvectorize(self, indices):\n",
    "        \"\"\"\n",
    "        :param indices: Converts the indices back to tokens.\n",
    "        :type tokens: list(int)\n",
    "        \"\"\"\n",
    "        return [self.vocab[i] for i in indices]"
   ]
  },
  {
   "cell_type": "code",
   "execution_count": 23,
   "metadata": {
    "_uuid": "4e39ea3edc9855cbc71e0b4e8c18dd1ca84e827f"
   },
   "outputs": [
    {
     "data": {
      "text/plain": [
       "16326"
      ]
     },
     "execution_count": 23,
     "metadata": {},
     "output_type": "execute_result"
    }
   ],
   "source": [
    "books_data_train = BooksDataset(tokenized_text_train)\n",
    "len(books_data_train.vocab)"
   ]
  },
  {
   "cell_type": "code",
   "execution_count": 24,
   "metadata": {},
   "outputs": [
    {
     "data": {
      "text/plain": [
       "['there',\n",
       " 'i',\n",
       " 'stood',\n",
       " ',',\n",
       " 'for',\n",
       " 'minutes',\n",
       " ',',\n",
       " 'looking',\n",
       " 'at',\n",
       " 'joe',\n",
       " ',',\n",
       " 'already',\n",
       " 'at',\n",
       " 'work',\n",
       " 'with',\n",
       " 'a',\n",
       " 'glow',\n",
       " 'of',\n",
       " 'health',\n",
       " 'and',\n",
       " 'strength',\n",
       " 'upon',\n",
       " 'his',\n",
       " 'face',\n",
       " 'that',\n",
       " 'made',\n",
       " 'it',\n",
       " 'show',\n",
       " 'as',\n",
       " 'if',\n",
       " 'the',\n",
       " 'bright',\n",
       " 'sun',\n",
       " 'of',\n",
       " 'the',\n",
       " 'life',\n",
       " 'in',\n",
       " 'store',\n",
       " 'for',\n",
       " 'him',\n",
       " 'were',\n",
       " 'shining',\n",
       " 'on',\n",
       " 'it.',\n",
       " '“good-bye',\n",
       " ',',\n",
       " 'dear',\n",
       " 'joe',\n",
       " '!',\n",
       " '--',\n",
       " 'no',\n",
       " ',',\n",
       " 'don',\n",
       " '’',\n",
       " 't',\n",
       " 'wipe',\n",
       " 'it',\n",
       " 'off',\n",
       " '--',\n",
       " 'for',\n",
       " 'god',\n",
       " '’',\n",
       " 's',\n",
       " 'sake',\n",
       " ',',\n",
       " 'give',\n",
       " 'me',\n",
       " 'your',\n",
       " 'blackened',\n",
       " 'hand',\n",
       " '!',\n",
       " '--',\n",
       " 'i',\n",
       " 'shall',\n",
       " 'be',\n",
       " 'down',\n",
       " 'soon',\n",
       " 'and',\n",
       " 'often.',\n",
       " '”',\n",
       " '“never',\n",
       " 'too',\n",
       " 'soon',\n",
       " ',',\n",
       " 'sir',\n",
       " ',',\n",
       " '”',\n",
       " 'said',\n",
       " 'joe',\n",
       " ',',\n",
       " '“and',\n",
       " 'never',\n",
       " 'too',\n",
       " 'often',\n",
       " ',',\n",
       " 'pip',\n",
       " '!',\n",
       " '”',\n",
       " 'biddy',\n",
       " 'was']"
      ]
     },
     "execution_count": 24,
     "metadata": {},
     "output_type": "execute_result"
    }
   ],
   "source": [
    "tokenized_text_train[0]"
   ]
  },
  {
   "cell_type": "code",
   "execution_count": 25,
   "metadata": {},
   "outputs": [
    {
     "data": {
      "text/plain": [
       "tensor([    2,    58,    24,    51, 16323,    16,    34, 16323,    31,     7,\n",
       "           29, 16323,     4,     7,    65,    64, 16325,    18,    37,    21,\n",
       "            5,    53,    60,    23,    15,    56,    32,    27,    48,     6,\n",
       "           25,    57,    11,    54,    37,    57,    30,    26,    52,    16,\n",
       "           22,    62,    47,    41,    28,    69, 16323,    12,    29, 16322,\n",
       "        16324,    36, 16323,    13,    67,    55,    63,    27,    38, 16324,\n",
       "           16,    19,    67,    43,    45, 16323,    17,    33,    66,    10,\n",
       "           20, 16322, 16324,    24,    46,     8,    14,    50,     5,    40,\n",
       "           71,    70,    59,    50, 16323,    49, 16323,    71,    44,    29,\n",
       "        16323,    68,    35,    59,    39, 16323,    42, 16322,    71,     9,\n",
       "           61,     3])"
      ]
     },
     "execution_count": 25,
     "metadata": {},
     "output_type": "execute_result"
    }
   ],
   "source": [
    "books_data_train.vectorize(tokenized_text_train[0])"
   ]
  },
  {
   "cell_type": "code",
   "execution_count": 26,
   "metadata": {},
   "outputs": [
    {
     "data": {
      "text/plain": [
       "384"
      ]
     },
     "execution_count": 26,
     "metadata": {},
     "output_type": "execute_result"
    }
   ],
   "source": [
    "books_data_train.vocab.token2id['free']"
   ]
  },
  {
   "cell_type": "code",
   "execution_count": 27,
   "metadata": {},
   "outputs": [
    {
     "data": {
      "text/plain": [
       "['<pad>',\n",
       " '<unk>',\n",
       " '<s>',\n",
       " '</s>',\n",
       " 'already',\n",
       " 'and',\n",
       " 'as',\n",
       " 'at',\n",
       " 'be',\n",
       " 'biddy',\n",
       " 'blackened',\n",
       " 'bright',\n",
       " 'dear',\n",
       " 'don',\n",
       " 'down',\n",
       " 'face',\n",
       " 'for',\n",
       " 'give',\n",
       " 'glow',\n",
       " 'god']"
      ]
     },
     "execution_count": 27,
     "metadata": {},
     "output_type": "execute_result"
    }
   ],
   "source": [
    "[ books_data_train.vocab[i] for i in range(20) ]"
   ]
  },
  {
   "cell_type": "code",
   "execution_count": 28,
   "metadata": {},
   "outputs": [
    {
     "data": {
      "text/plain": [
       "5000"
      ]
     },
     "execution_count": 28,
     "metadata": {},
     "output_type": "execute_result"
    }
   ],
   "source": [
    "books_data_train.vocab.filter_extremes(no_below=0, no_above=1, keep_n=5000, keep_tokens=['<pad>', '<unk>', '<s>', '</s>'])\n",
    "len(books_data_train.vocab)"
   ]
  },
  {
   "cell_type": "code",
   "execution_count": 29,
   "metadata": {},
   "outputs": [
    {
     "data": {
      "text/plain": [
       "['<pad>',\n",
       " '<unk>',\n",
       " '<s>',\n",
       " '</s>',\n",
       " 'already',\n",
       " 'and',\n",
       " 'as',\n",
       " 'at',\n",
       " 'be',\n",
       " 'biddy',\n",
       " 'blackened',\n",
       " 'bright',\n",
       " 'dear',\n",
       " 'don',\n",
       " 'down',\n",
       " 'face',\n",
       " 'for',\n",
       " 'give',\n",
       " 'glow',\n",
       " 'god']"
      ]
     },
     "execution_count": 29,
     "metadata": {},
     "output_type": "execute_result"
    }
   ],
   "source": [
    "[ books_data_train.vocab[i] for i in range(20) ]"
   ]
  },
  {
   "cell_type": "code",
   "execution_count": 30,
   "metadata": {},
   "outputs": [
    {
     "data": {
      "text/plain": [
       "tensor([ 2, 57, 24, 50,  1, 16, 34,  1, 31,  7, 29,  1,  4,  7, 64, 63,  1, 18,\n",
       "        37, 21,  5, 52, 59, 23, 15, 55, 32, 27, 47,  6, 25, 56, 11, 53, 37, 56,\n",
       "        30, 26, 51, 16, 22, 61, 46, 40, 28, 68,  1, 12, 29,  1,  1, 36,  1, 13,\n",
       "        66, 54, 62, 27, 38,  1, 16, 19, 66, 42, 44,  1, 17, 33, 65, 10, 20,  1,\n",
       "         1, 24, 45,  8, 14, 49,  5,  1, 70, 69, 58, 49,  1, 48,  1, 70, 43, 29,\n",
       "         1, 67, 35, 58, 39,  1, 41,  1, 70,  9, 60,  3])"
      ]
     },
     "execution_count": 30,
     "metadata": {},
     "output_type": "execute_result"
    }
   ],
   "source": [
    "books_data_train.vectorize(tokenized_text_train[0])"
   ]
  },
  {
   "cell_type": "code",
   "execution_count": 31,
   "metadata": {},
   "outputs": [
    {
     "data": {
      "text/plain": [
       "5000"
      ]
     },
     "execution_count": 31,
     "metadata": {},
     "output_type": "execute_result"
    }
   ],
   "source": [
    "books_data_val = BooksDataset(tokenized_text_val, books_data_train.vocab)\n",
    "len(books_data_val.vocab)"
   ]
  },
  {
   "cell_type": "code",
   "execution_count": 32,
   "metadata": {},
   "outputs": [
    {
     "name": "stdout",
     "output_type": "stream",
     "text": [
      "tensor([ 27,  53,  41,  65,  99,  60, 102,  13,  28,  10,  65,  11,  18,  69,\n",
      "         88,  34,  35,  44,  11,  14,  29,  34,  52,  12,  43,  31,  36,  67,\n",
      "         31,  32,  30,  13,  51,  30,  58,  61,  68,  23,  21,  18,  62, 102,\n",
      "         36,  34, 102,  24, 102,  26,  59,  78,  33,  10,   8, 102,  15, 102,\n",
      "         20,  71,  96,  88,   8,  87,  14,  18,  34,  40,  74,  23,  26,  33,\n",
      "         34,  60,  71,  71,  69, 102,  10,  26,  63, 102,  32,  90,  15,   7,\n",
      "         61,  38,   9,  84,  54,  67,  28,  14, 102,  57,  92,  84,  33,  56,\n",
      "         87,  10,  66,  41,  23,  83,  33,  93,  35,  34,  14,  41,  48,  91,\n",
      "         10,  22,  19,  33,  70,  88, 102,  87,  45,  68, 102,  34,  38,  33,\n",
      "         54,  58])\n"
     ]
    }
   ],
   "source": [
    "batch_size = 128\n",
    "dataloader = DataLoader(dataset=books_data_val, batch_size=batch_size, shuffle=True)\n",
    "\n",
    "for data_dict in dataloader:\n",
    "    print(data_dict['x_len'])\n",
    "    break"
   ]
  },
  {
   "cell_type": "code",
   "execution_count": 33,
   "metadata": {
    "_uuid": "149f189249edf73258f9456e86c2116cc2da3150"
   },
   "outputs": [
    {
     "name": "stdout",
     "output_type": "stream",
     "text": [
      "{'x': tensor([[   2,  201,    1,  ..., 2437,   33,  115],\n",
      "        [   2,    5,   57,  ...,  361,  333,    1],\n",
      "        [   2,  306,    1,  ...,   87,  157,  324],\n",
      "        ...,\n",
      "        [   2,  293,   33,  ...,    0,    0,    0],\n",
      "        [   2,   24,  139,  ...,    0,    0,    0],\n",
      "        [   2,   24,    1,  ...,    0,    0,    0]]), 'y': tensor([[ 201,    1,  308,  ...,   33,  115,  374],\n",
      "        [   5,   57,   60,  ...,  333,    1,   24],\n",
      "        [ 306,    1, 2891,  ...,  157,  324,   70],\n",
      "        ...,\n",
      "        [ 293,   33,  141,  ...,    0,    0,    0],\n",
      "        [  24,  139,  118,  ...,    0,    0,    0],\n",
      "        [  24,    1,  118,  ...,    0,    0,    0]]), 'x_len': tensor([102, 102, 102, 102, 102, 102, 102, 102, 102, 102, 102, 102, 102, 102,\n",
      "        102, 102, 102, 102, 102, 102, 101,  96,  93,  91,  90,  88,  86,  86,\n",
      "         82,  82,  80,  76,  74,  71,  68,  67,  67,  67,  64,  61,  60,  59,\n",
      "         59,  58,  58,  57,  57,  56,  56,  55,  55,  54,  53,  52,  52,  51,\n",
      "         50,  48,  47,  47,  46,  46,  45,  45,  44,  41,  40,  40,  38,  38,\n",
      "         37,  37,  36,  34,  34,  32,  32,  31,  31,  31,  30,  30,  30,  30,\n",
      "         29,  29,  28,  28,  27,  27,  27,  26,  25,  25,  24,  22,  22,  22,\n",
      "         22,  21,  20,  19,  19,  19,  16,  16,  14,  14,  14,  13,  13,  13,\n",
      "         13,  13,  12,  12,  11,  10,   9,   9,   8,   8,   8,   8,   8,   7,\n",
      "          5,   5])}\n"
     ]
    }
   ],
   "source": [
    "batch_size = 128\n",
    "dataloader = DataLoader(dataset=books_data_val, batch_size=batch_size, shuffle=True)\n",
    "\n",
    "for data_dict in dataloader:\n",
    "    # Sort indices of data in batch by lengths.\n",
    "    sorted_indices = np.array(data_dict['x_len']).argsort()[::-1].tolist()\n",
    "    data_batch = {name:_tensor[sorted_indices]\n",
    "                  for name, _tensor in data_dict.items()}\n",
    "    print(data_batch)\n",
    "    break"
   ]
  },
  {
   "cell_type": "markdown",
   "metadata": {},
   "source": [
    "## Model"
   ]
  },
  {
   "cell_type": "code",
   "execution_count": 34,
   "metadata": {
    "_uuid": "5aa5c2bd3bd13d6870441dec284d7762d6b8f1bd"
   },
   "outputs": [],
   "source": [
    "class Generator(nn.Module):\n",
    "    def __init__(self, vocab_size, embedding_size, hidden_size, num_layers, dropout=0, recurrent_dropout=0):\n",
    "        super(Generator, self).__init__()\n",
    "\n",
    "        # Initialize the embedding layer with the \n",
    "        # - size of input (i.e. no. of words in input vocab)\n",
    "        # - no. of hidden nodes in the embedding layer\n",
    "        self.embedding = nn.Embedding(vocab_size, embedding_size, padding_idx=0)\n",
    "        \n",
    "        # Initialize the GRU with the \n",
    "        # - size of the input (i.e. embedding layer)\n",
    "        # - size of the hidden layer \n",
    "        self.gru = nn.GRU(embedding_size, hidden_size, num_layers, batch_first=True, dropout=recurrent_dropout)\n",
    "        \n",
    "        # Initialize the \"classifier\" layer to map the RNN outputs\n",
    "        # to the vocabulary. Remember we need to -1 because the \n",
    "        # vectorized sentence we left out one token for both x and y:\n",
    "        # - size of hidden_size of the GRU output.\n",
    "        # - size of vocabulary\n",
    "        self.classifier = nn.Linear(hidden_size, vocab_size)\n",
    "        \n",
    "        self.dropout = dropout\n",
    "        \n",
    "    def forward(self, inputs, use_softmax=False, hidden=None):\n",
    "        # Look up for the embeddings for the input word indices.\n",
    "        embedded = self.embedding(inputs)\n",
    "        # Put the embedded inputs into the GRU.\n",
    "        output, hidden = self.gru(embedded, hidden)\n",
    "        \n",
    "        # Matrix manipulation magic.\n",
    "        batch_size, sequence_len, hidden_size = output.shape\n",
    "        # Technically, linear layer takes a 2-D matrix as input, so more manipulation...\n",
    "        output = output.contiguous().view(batch_size * sequence_len, hidden_size)\n",
    "        # Apply dropout.\n",
    "        if self.dropout:\n",
    "            output = F.dropout(output, self.dropout)\n",
    "        # output = F.dropout(output, 0.5)\n",
    "        # Put it through the classifier\n",
    "        # And reshape it to [batch_size x sequence_len x vocab_size]\n",
    "        output = self.classifier(output).view(batch_size, sequence_len, -1)\n",
    "        \n",
    "        return (F.softmax(output,dim=2), hidden) if use_softmax else (output, hidden)"
   ]
  },
  {
   "cell_type": "code",
   "execution_count": 35,
   "metadata": {
    "_uuid": "dce2418b4cede1f5dd3f104179fa69defaeceac3"
   },
   "outputs": [],
   "source": [
    "# Set the hidden_size of the GRU \n",
    "embed_size = 12\n",
    "hidden_size = 10\n",
    "num_layers = 1\n",
    "\n",
    "_encoder = Generator(len(books_data_train.vocab), embed_size, hidden_size, num_layers)"
   ]
  },
  {
   "cell_type": "code",
   "execution_count": 36,
   "metadata": {
    "_uuid": "0d24dcec5ce293c82663ecf9ce07528d1f125882"
   },
   "outputs": [],
   "source": [
    "# Take a batch.\n",
    "batch_size = 128\n",
    "traindataloader = DataLoader(dataset=books_data_train, batch_size=batch_size, shuffle=True)\n",
    "\n",
    "_batch = next(iter(traindataloader))\n",
    "_inputs, _lengths = _batch['x'], _batch['x_len']\n",
    "_targets = _batch['y']"
   ]
  },
  {
   "cell_type": "code",
   "execution_count": 37,
   "metadata": {},
   "outputs": [
    {
     "data": {
      "text/plain": [
       "tensor([  2, 242, 329, 659,   1,   1, 140, 139,  16,   1, 154, 588,  26,   1,\n",
       "         56, 658,  37, 657,   1, 133, 242,   7, 176, 660, 662,  26,  56, 652,\n",
       "         37, 656,   1, 140, 139,   1, 110,   1,   5, 139,   1, 140, 574, 255,\n",
       "        661, 382, 655, 654,   1, 202,  26,  56,   1,  37,  23,   1,   1, 653,\n",
       "         56, 136,  37,  23,   1,   1, 115, 663,  23, 441,   1,  60, 350, 118,\n",
       "          3,   0,   0,   0,   0,   0,   0,   0,   0,   0,   0,   0,   0,   0,\n",
       "          0,   0,   0,   0,   0,   0,   0,   0,   0,   0,   0,   0,   0,   0,\n",
       "          0])"
      ]
     },
     "execution_count": 37,
     "metadata": {},
     "output_type": "execute_result"
    }
   ],
   "source": [
    "_inputs[0]"
   ]
  },
  {
   "cell_type": "code",
   "execution_count": 38,
   "metadata": {},
   "outputs": [
    {
     "data": {
      "text/plain": [
       "tensor([242, 329, 659,   1,   1, 140, 139,  16,   1, 154, 588,  26,   1,  56,\n",
       "        658,  37, 657,   1, 133, 242,   7, 176, 660, 662,  26,  56, 652,  37,\n",
       "        656,   1, 140, 139,   1, 110,   1,   5, 139,   1, 140, 574, 255, 661,\n",
       "        382, 655, 654,   1, 202,  26,  56,   1,  37,  23,   1,   1, 653,  56,\n",
       "        136,  37,  23,   1,   1, 115, 663,  23, 441,   1,  60, 350, 118,   3,\n",
       "          0,   0,   0,   0,   0,   0,   0,   0,   0,   0,   0,   0,   0,   0,\n",
       "          0,   0,   0,   0,   0,   0,   0,   0,   0,   0,   0,   0,   0,   0,\n",
       "          0])"
      ]
     },
     "execution_count": 38,
     "metadata": {},
     "output_type": "execute_result"
    }
   ],
   "source": [
    "_targets[0]"
   ]
  },
  {
   "cell_type": "code",
   "execution_count": 39,
   "metadata": {
    "_uuid": "009c1cc8d9f7517187bd9259473703baf5cbd349"
   },
   "outputs": [
    {
     "name": "stdout",
     "output_type": "stream",
     "text": [
      "Output sizes:\t torch.Size([128, 99, 5000])\n",
      "Input sizes:\t 128 99 5000\n",
      "Target sizes:\t torch.Size([128, 99])\n"
     ]
    }
   ],
   "source": [
    "_output, _hidden = _encoder(_inputs)\n",
    "print('Output sizes:\\t', _output.shape)\n",
    "print('Input sizes:\\t', batch_size, books_data_train.max_len -1, len(books_data_train.vocab))\n",
    "print('Target sizes:\\t', _targets.shape)"
   ]
  },
  {
   "cell_type": "code",
   "execution_count": 40,
   "metadata": {
    "_uuid": "b5ddd1dfa0736a64152d1b3acbedb118606d4a38"
   },
   "outputs": [
    {
     "data": {
      "text/plain": [
       "torch.Size([128, 99, 5000])"
      ]
     },
     "execution_count": 40,
     "metadata": {},
     "output_type": "execute_result"
    }
   ],
   "source": [
    "_output.shape"
   ]
  },
  {
   "cell_type": "code",
   "execution_count": 41,
   "metadata": {
    "_uuid": "ee773d9ff037f57b0ba49a0594f5ffb546da3498"
   },
   "outputs": [
    {
     "data": {
      "text/plain": [
       "torch.Size([99, 5000])"
      ]
     },
     "execution_count": 41,
     "metadata": {},
     "output_type": "execute_result"
    }
   ],
   "source": [
    "_output[-1].shape"
   ]
  },
  {
   "cell_type": "code",
   "execution_count": 42,
   "metadata": {
    "_uuid": "07a81647f4724bc89e31eb0aaca301839d23b9fb"
   },
   "outputs": [
    {
     "name": "stdout",
     "output_type": "stream",
     "text": [
      "torch.Size([128, 99])\n"
     ]
    }
   ],
   "source": [
    "_, predicted_indices = torch.max(_output, dim=2)\n",
    "print(predicted_indices.shape)\n"
   ]
  },
  {
   "cell_type": "code",
   "execution_count": 43,
   "metadata": {
    "_uuid": "cc11b8af72aa329ceb43d3b9e40d96efea23cb84"
   },
   "outputs": [
    {
     "data": {
      "text/plain": [
       "Hyperparams(vocab_size=None, embed_size=256, hidden_size=256, num_layers=1, dropout=0.5, recurrent_dropout=0, loss_func=<class 'torch.nn.modules.loss.CrossEntropyLoss'>, learning_rate=0.03, optimizer=<class 'torch.optim.adam.Adam'>, batch_size=128)"
      ]
     },
     "execution_count": 43,
     "metadata": {},
     "output_type": "execute_result"
    }
   ],
   "source": [
    "device = 'cuda' if torch.cuda.is_available() else 'cpu'\n",
    "\n",
    "_hyper = ['vocab_size', 'embed_size', 'hidden_size', 'num_layers',\n",
    "          'dropout', 'recurrent_dropout',\n",
    "          'loss_func', 'learning_rate', 'optimizer', 'batch_size']\n",
    "Hyperparams = namedtuple('Hyperparams', _hyper)\n",
    "\n",
    "\n",
    "hyperparams = Hyperparams(vocab_size=None, embed_size=256, hidden_size=256, num_layers=1,\n",
    "                          dropout=0.5, recurrent_dropout=0,\n",
    "                          loss_func=nn.CrossEntropyLoss,\n",
    "                          learning_rate=0.03, optimizer=optim.Adam, batch_size=128)\n",
    "\n",
    "hyperparams"
   ]
  },
  {
   "cell_type": "markdown",
   "metadata": {},
   "source": [
    "## Train model"
   ]
  },
  {
   "cell_type": "code",
   "execution_count": 44,
   "metadata": {},
   "outputs": [],
   "source": [
    "def save_checkpoint(state, is_best, checkpoint):\n",
    "   # Saves model and training parameters at checkpoint + 'last.pth.tar'. If is_best==True, also saves\n",
    "   # checkpoint + 'best.pth.tar'\n",
    "   # Args:\n",
    "   #     state: (dict) contains model's state_dict, may contain other keys such as epoch, optimizer state_dict\n",
    "   #     is_best: (bool) True if it is the best model seen till now\n",
    "   #     checkpoint: (string) folder where parameters are to be saved\n",
    "\n",
    "    filepath = os.path.join(checkpoint, 'last.pth')\n",
    "    if not os.path.exists(checkpoint):\n",
    "        # print(\"Checkpoint Directory does not exist! Making directory {}\".format(checkpoint))\n",
    "        os.mkdir(checkpoint)\n",
    "    torch.save(state, filepath)\n",
    "    if is_best:\n",
    "        shutil.copyfile(filepath, os.path.join(checkpoint, 'best.pth'))"
   ]
  },
  {
   "cell_type": "code",
   "execution_count": 45,
   "metadata": {
    "_uuid": "2654e746605c6480d1cc4cc1cf8b6c59fa3eefa4"
   },
   "outputs": [],
   "source": [
    "# Training routine.\n",
    "def train(num_epochs, traindataloader, valdataloader, model, criterion, optimizer):\n",
    "    losses = []\n",
    "    val_losses = []\n",
    "    best_val_loss = 0\n",
    "    plt.ion()\n",
    "    for _e in range(num_epochs):\n",
    "        \n",
    "        model.train(True)\n",
    "        for batch in tqdm(traindataloader):\n",
    "            # Zero gradient.\n",
    "            optimizer.zero_grad()\n",
    "            x = batch['x'].to(device)\n",
    "            x_len = batch['x_len'].to(device)\n",
    "            y = batch['y'].to(device)\n",
    "            # Feed forward. \n",
    "            output, hidden = model(x, use_softmax=False)\n",
    "            # Compute loss:\n",
    "            # Shape of the `output` is [batch_size x sequence_len x vocab_size]\n",
    "            # Shape of `y` is [batch_size x sequence_len]\n",
    "            # CrossEntropyLoss expects `output` to be [batch_size x vocab_size x sequence_len]\n",
    "            _, prediction = torch.max(output, dim=2)\n",
    "            loss = criterion(output.permute(0, 2, 1), y)\n",
    "            loss.backward()\n",
    "            optimizer.step()\n",
    "            losses.append(loss.float().data)\n",
    "\n",
    "        clear_output(wait=True)\n",
    "        # plt.plot(losses)\n",
    "        # plt.pause(0.05)\n",
    "\n",
    "        model.train(False)\n",
    "        for batch in tqdm(valdataloader):\n",
    "            # Zero gradient.\n",
    "            optimizer.zero_grad()\n",
    "            x = batch['x'].to(device)\n",
    "            x_len = batch['x_len'].to(device)\n",
    "            y = batch['y'].to(device)\n",
    "            # Feed forward. \n",
    "            output, hidden = model(x, use_softmax=False)\n",
    "            # Compute loss:\n",
    "            # Shape of the `output` is [batch_size x sequence_len x vocab_size]\n",
    "            # Shape of `y` is [batch_size x sequence_len]\n",
    "            # CrossEntropyLoss expects `output` to be [batch_size x vocab_size x sequence_len]\n",
    "            _, prediction = torch.max(output, dim=2)\n",
    "            with torch.no_grad():\n",
    "                val_loss = criterion(output.permute(0, 2, 1), y)\n",
    "            # val_loss.backward()\n",
    "            # optimizer.step()\n",
    "            val_losses.append(val_loss.float().data)\n",
    "            \n",
    "            # Update best val_loss\n",
    "            if not best_val_loss:\n",
    "                best_val_loss = val_loss\n",
    "            else:\n",
    "                save_checkpoint(model.state_dict(), val_loss < best_val_loss, 'models')\n",
    "                if val_loss < best_val_loss:\n",
    "                    best_val_loss = val_loss\n",
    "        \n",
    "        clear_output(wait=True)\n",
    "        plt.figure(figsize=(10, 5))\n",
    "        plt.subplot(121)\n",
    "        plt.plot(losses, label='loss')\n",
    "        plt.legend()\n",
    "        plt.title('Training Loss')\n",
    "        plt.subplot(122)\n",
    "        plt.plot(val_losses, label='val_loss')\n",
    "        plt.legend()\n",
    "        plt.title('Validation Loss')\n",
    "        plt.pause(0.05)\n",
    "        \n",
    "    return {'loss': losses, 'val_loss': val_losses}\n",
    "\n",
    "def initialize_data_model_optim_loss(hyperparams):\n",
    "    # Initialize the dataset and dataloader.\n",
    "    with io.open(os.path.join('data', 'splits', 'tokenized_train_100.json'), encoding='utf8') as infile:\n",
    "        tokenized_text_train = json.load(infile)\n",
    "    with io.open(os.path.join('data', 'splits', 'tokenized_val_100.json'), encoding='utf8') as infile:\n",
    "        tokenized_text_val = json.load(infile)\n",
    "    books_data_train = BooksDataset(tokenized_text_train)\n",
    "    books_data_train.vocab.filter_extremes(no_below=0, no_above=1, keep_n=hyperparams.vocab_size, keep_tokens=['<pad>', '<unk>', '<s>', '</s>'])\n",
    "    books_data_val = BooksDataset(tokenized_text_val, books_data_train.vocab)\n",
    "    traindataloader = DataLoader(dataset=books_data_train,\n",
    "                                 batch_size=hyperparams.batch_size,\n",
    "                                 shuffle=True)\n",
    "    valdataloader = DataLoader(dataset=books_data_val,\n",
    "                               batch_size=hyperparams.batch_size,\n",
    "                               shuffle=True)\n",
    "\n",
    "    # Loss function.\n",
    "    criterion = hyperparams.loss_func(ignore_index=books_data_train.vocab.token2id['<pad>'], \n",
    "                                      reduction='mean')\n",
    "\n",
    "    # Model.\n",
    "    model = Generator(len(books_data_train.vocab), hyperparams.embed_size, \n",
    "                      hyperparams.hidden_size, hyperparams.num_layers,\n",
    "                      hyperparams.dropout, hyperparams.recurrent_dropout).to(device)\n",
    "\n",
    "    # Optimizer.\n",
    "    optimizer = hyperparams.optimizer(model.parameters(), lr=hyperparams.learning_rate)\n",
    "    \n",
    "    return traindataloader, valdataloader, model, optimizer, criterion"
   ]
  },
  {
   "cell_type": "code",
   "execution_count": 46,
   "metadata": {
    "_uuid": "5a5b3b2c17ba23fbb976f4a634ddd21e80e26c91"
   },
   "outputs": [],
   "source": [
    "def generate_example(model, temperature=1.0, max_len=100, hidden_state=None):\n",
    "    start_token, start_idx = '<s>', 2\n",
    "    # Start state.\n",
    "    inputs = torch.tensor(books_data_train.vocab.token2id[start_token]).unsqueeze(0).unsqueeze(0).to(device)\n",
    "\n",
    "    sentence = [start_token]\n",
    "    i = 0\n",
    "    \n",
    "    # Built a complete sentence by iteratively feeding a partial sentence until </s> <pad> is generated or maxlen \n",
    "    while i < max_len and sentence[-1] not in ['</s>', '<pad>']:\n",
    "        i += 1\n",
    "        \n",
    "        # Apply embedding layer\n",
    "        embedded = model.embedding(inputs)\n",
    "        # Apply recurrent layers\n",
    "        output, hidden_state = model.gru(embedded, hidden_state)\n",
    "\n",
    "        batch_size, sequence_len, hidden_size = output.shape\n",
    "        output = output.contiguous().view(batch_size * sequence_len, hidden_size)\n",
    "        # Apply linear layer\n",
    "        output = model.classifier(output).view(batch_size, sequence_len, -1).squeeze(0)\n",
    "        #_, prediction = torch.max(F.softmax(output, dim=2), dim=2)\n",
    "        \n",
    "        word_weights = output.div(temperature).exp().cpu()\n",
    "        if len(word_weights.shape) > 1:\n",
    "            word_weights = word_weights[-1] # Pick the last word. This is the newly generated word.\n",
    "        word_idx = torch.multinomial(word_weights, 1).view(-1)\n",
    "        \n",
    "        sentence.append(books_data_train.vocab[int(word_idx)])\n",
    "        \n",
    "        inputs = tensor([books_data_train.vocab.token2id[word] for word in sentence]).unsqueeze(0).to(device)\n",
    "    print(' '.join(sentence))"
   ]
  },
  {
   "cell_type": "code",
   "execution_count": 47,
   "metadata": {},
   "outputs": [],
   "source": [
    "histories = []"
   ]
  },
  {
   "cell_type": "code",
   "execution_count": 48,
   "metadata": {
    "_uuid": "de7efc9371e23d8ec2c73d647fdfc06a2805a573",
    "scrolled": false
   },
   "outputs": [
    {
     "data": {
      "image/png": "[encoded data removed]",
      "text/plain": [
       "<Figure size 720x360 with 2 Axes>"
      ]
     },
     "metadata": {
      "needs_background": "light"
     },
     "output_type": "display_data"
    },
    {
     "name": "stdout",
     "output_type": "stream",
     "text": [
      "\n",
      "Training Duration = 0:16:50.799446\n"
     ]
    }
   ],
   "source": [
    "hyperparams = Hyperparams(vocab_size=5000, embed_size=256, hidden_size=256, num_layers=2,\n",
    "                          dropout=0.5, recurrent_dropout=0,\n",
    "                          loss_func=nn.CrossEntropyLoss,\n",
    "                          learning_rate=0.03, optimizer=optim.Adam, batch_size=128)\n",
    "\n",
    "traindataloader, valdataloader, model, optimizer, criterion = initialize_data_model_optim_loss(hyperparams)\n",
    "\n",
    "t1 = datetime.datetime.now()\n",
    "train_to_epoch = 100\n",
    "history = train(train_to_epoch, traindataloader, valdataloader, model, criterion, optimizer)\n",
    "print('\\nTraining Duration = %s' % (datetime.datetime.now()-t1))\n",
    "\n",
    "histories.append(history)"
   ]
  },
  {
   "cell_type": "code",
   "execution_count": 49,
   "metadata": {},
   "outputs": [],
   "source": [
    "with open(os.path.join('models', 'model1-histories-epch' + str(train_to_epoch) + '.pkl'), 'wb') as outfile:\n",
    "    pickle.dump(histories, outfile)"
   ]
  },
  {
   "cell_type": "code",
   "execution_count": 54,
   "metadata": {},
   "outputs": [
    {
     "name": "stdout",
     "output_type": "stream",
     "text": [
      "Min Validation Loss = 4.714593887329102 @ mini-batch 1199\n",
      "Min Train Loss = 4.776748180389404\n"
     ]
    }
   ],
   "source": [
    "train_loss = []\n",
    "val_loss = []\n",
    "for h in histories:\n",
    "    for a_loss in h['loss']:\n",
    "        train_loss.append(a_loss)\n",
    "    for a_loss in h['val_loss']:\n",
    "        val_loss.append(a_loss)\n",
    "\n",
    "print('Min Validation Loss = {} @ mini-batch {}\\nMin Train Loss = {}'.format(\n",
    "    min(val_loss),\n",
    "    val_loss.index(min(val_loss)),\n",
    "    train_loss[-1]))\n",
    "    "
   ]
  },
  {
   "cell_type": "markdown",
   "metadata": {},
   "source": [
    "## Results"
   ]
  },
  {
   "cell_type": "markdown",
   "metadata": {},
   "source": [
    "### Load best model"
   ]
  },
  {
   "cell_type": "code",
   "execution_count": 48,
   "metadata": {},
   "outputs": [],
   "source": [
    "hyperparams = Hyperparams(vocab_size=5000, embed_size=256, hidden_size=256, num_layers=2,\n",
    "                          dropout=0.5, recurrent_dropout=0,\n",
    "                          loss_func=nn.CrossEntropyLoss,\n",
    "                          learning_rate=0.03, optimizer=optim.Adam, batch_size=128)\n",
    "\n",
    "traindataloader, valdataloader, model, optimizer, criterion = initialize_data_model_optim_loss(hyperparams)"
   ]
  },
  {
   "cell_type": "code",
   "execution_count": 49,
   "metadata": {},
   "outputs": [],
   "source": [
    "model.load_state_dict(torch.load(os.path.join('models', 'model1.best.1199.pth')))"
   ]
  },
  {
   "cell_type": "code",
   "execution_count": 50,
   "metadata": {},
   "outputs": [
    {
     "name": "stderr",
     "output_type": "stream",
     "text": [
      "100%|██████████| 24/24 [00:01<00:00, 20.40it/s]\n"
     ]
    },
    {
     "data": {
      "text/plain": [
       "133.02597561396001"
      ]
     },
     "execution_count": 50,
     "metadata": {},
     "output_type": "execute_result"
    }
   ],
   "source": [
    "# Calculate perplexity\n",
    "criterion = nn.CrossEntropyLoss(ignore_index=books_data_train.vocab.token2id['<pad>'],\n",
    "                                reduction='mean')\n",
    "val_losses = []\n",
    "model.train(False)\n",
    "for batch in tqdm(valdataloader):\n",
    "    # Zero gradient.\n",
    "    optimizer.zero_grad()\n",
    "    x = batch['x'].to(device)\n",
    "    x_len = batch['x_len'].to(device)\n",
    "    y = batch['y'].to(device)\n",
    "    # Feed forward.\n",
    "    with torch.no_grad():\n",
    "      output, hidden = model(x, use_softmax=False)\n",
    "      # Compute loss:\n",
    "      # Shape of the `output` is [batch_size x sequence_len x vocab_size]\n",
    "      # Shape of `y` is [batch_size x sequence_len]\n",
    "      # CrossEntropyLoss expects `output` to be [batch_size x vocab_size x sequence_len]\n",
    "      # _, prediction = torch.max(output, dim=2)\n",
    "      val_loss = criterion(output.permute(0, 2, 1), y)\n",
    "      # val_loss.backward()\n",
    "      # optimizer.step()\n",
    "      val_losses.append(val_loss.float().data)\n",
    "\n",
    "perplexity = math.exp(sum(val_losses) / len(valdataloader))\n",
    "perplexity"
   ]
  },
  {
   "cell_type": "code",
   "execution_count": 51,
   "metadata": {
    "_uuid": "67548caaf4b02520b3eefcc87e5b7550ceff3e94"
   },
   "outputs": [
    {
     "name": "stdout",
     "output_type": "stream",
     "text": [
      "<s> i are for <unk> <unk> bit <unk> as him <unk> her suggesting to whom me had <unk> distance where i ’ now he would suppose the avenue care <unk> and expected quite place <unk> or <unk> for the <unk> <unk> sleeping <unk> no used no ’ s postern <unk> too to not than making joe <unk> without probably let purpose very as <unk> attend to be added at in conversation <unk> <unk> sir first <unk> for the back <unk> where he had and as once <unk> for me lie on <unk> in an going it <unk> <unk> as his <unk>\n",
      "<s> pint of air <unk> <unk> the echoes <unk> without this <unk> came . </s>\n",
      "<s> what i ’ d as any <unk> possessing of that mr. jasper. <unk> ’ ’ edwin <unk> you see him mr. so <unk> i do it as if i stood she was gone that this <unk> <unk> who as his sharp <unk> he <unk> evidently that before . </s>\n",
      "<s> i was so <unk> down <unk> <unk> with another of the one : ’ two . </s>\n",
      "<s> do we hoped fast <unk> the easy-chair come back to my i my little is other <unk> for goes <unk> <unk> other <unk> at “all ? </s>\n",
      "<s> themselves laughed ; to him is <unk> box now of the first <unk> death shall you ? i swear are less little <unk> on the sum . </s>\n",
      "<s> we warn was <unk> . </s>\n",
      "<s> we went for some which cold into time. that had there came to drummle to us <unk> <unk> here. ’ no <unk> as <unk> good <unk> <unk> <unk> this first <unk> . </s>\n",
      "<s> they them <unk> the <unk> would have told if ” <unk> all <unk> without i end and <unk> there <unk> the time then of spine <unk> ” to be <unk> “that you _don ’ ll anything again . </s>\n",
      "<s> thus ; as there were <unk> and whereas wemmick slowly his about my neck room already in <unk> round me mr. jane ; ) to be <unk> the <unk> ’ i thought still the <unk> . </s>\n"
     ]
    }
   ],
   "source": [
    "for _ in range(10):\n",
    "    generate_example(model)"
   ]
  },
  {
   "cell_type": "code",
   "execution_count": 53,
   "metadata": {
    "_uuid": "8f2b7153dbe720c1fccbcbf5f8512a2bcce47689"
   },
   "outputs": [],
   "source": [
    "# torch.save(model.state_dict(), os.path.join('models', 'gru-model1.pth'))\n",
    "\n",
    "hyperparams = Hyperparams(vocab_size=5000, embed_size=256, hidden_size=256, num_layers=2,\n",
    "                          dropout=0.5, recurrent_dropout=0,\n",
    "                          loss_func='nn.CrossEntropyLoss',\n",
    "                          learning_rate=0.03, optimizer='optim.Adam', batch_size=128)\n",
    "with open(os.path.join('models', 'model1.json'), 'w') as fout:\n",
    "    json.dump(dict(hyperparams._asdict()), fout)"
   ]
  },
  {
   "cell_type": "code",
   "execution_count": null,
   "metadata": {},
   "outputs": [],
   "source": []
  }
 ],
 "metadata": {
  "kernelspec": {
   "display_name": "ptvenv",
   "language": "python",
   "name": "ptvenv"
  },
  "language_info": {
   "codemirror_mode": {
    "name": "ipython",
    "version": 3
   },
   "file_extension": ".py",
   "mimetype": "text/x-python",
   "name": "python",
   "nbconvert_exporter": "python",
   "pygments_lexer": "ipython3",
   "version": "3.6.7"
  }
 },
 "nbformat": 4,
 "nbformat_minor": 1
}
